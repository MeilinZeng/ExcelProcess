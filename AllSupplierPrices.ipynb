{
 "cells": [
  {
   "cell_type": "code",
   "execution_count": 262,
   "metadata": {},
   "outputs": [
    {
     "name": "stdout",
     "output_type": "stream",
     "text": [
      "Once deleted, variables cannot be recovered. Proceed (y/[n])? y\n"
     ]
    }
   ],
   "source": [
    "%reset\n",
    "import pandas as pd\n",
    "import glob\n",
    "import numpy as np\n",
    "import matplotlib.pyplot as plt"
   ]
  },
  {
   "cell_type": "markdown",
   "metadata": {},
   "source": [
    "## Read all documents"
   ]
  },
  {
   "cell_type": "code",
   "execution_count": 263,
   "metadata": {
    "collapsed": true
   },
   "outputs": [],
   "source": [
    "# Get a list of all document names\n",
    "namelist = glob.glob(\"C:/Users/**********.xlsx\")"
   ]
  },
  {
   "cell_type": "code",
   "execution_count": 264,
   "metadata": {
    "collapsed": true
   },
   "outputs": [],
   "source": [
    "# Format document\n",
    "def convert_format(RFP_Doc):\n",
    "    PriceList = RFP_Doc[12:]\n",
    "    PriceList.columns = PriceList.iloc[0]\n",
    "    PriceList = PriceList[1:]\n",
    "    PriceList = PriceList.drop(PriceList.columns[[0]], axis=1)\n",
    "    PriceList['Supplier Name'] = RFP_Doc['INC.'][2]\n",
    "    PriceList['Purchase Site'] = RFP_Doc['INC.'][3]\n",
    "    PriceList['Blade'] = RFP_Doc['INC.'][4]\n",
    "    PriceList['Material Category'] = RFP_Doc['INC.'][5]\n",
    "    PriceList['Currency'] = RFP_Doc['INC.'][6]\n",
    "    PriceList['Payment Term'] = RFP_Doc['INC.'][7]\n",
    "    PriceList['Incom Term'] = RFP_Doc['INC.'][8]\n",
    "    PriceList['VMI'] = RFP_Doc['INC.'][9]\n",
    "    PriceList['Date'] = RFP_Doc['INC.'][10]\n",
    "    return PriceList"
   ]
  },
  {
   "cell_type": "code",
   "execution_count": 265,
   "metadata": {
    "collapsed": true
   },
   "outputs": [],
   "source": [
    "# Consolidate documents\n",
    "QuoteList = []\n",
    "AllPrices = []\n",
    "for name in namelist:\n",
    "    var_name = name.split(\"\\\\\")[1].split(\".x\")[0]\n",
    "    QuoteList.append(var_name)\n",
    "    vars()[var_name] = convert_format(pd.read_excel(name))\n",
    "    AllPrices.append(convert_format(pd.read_excel(name)))\n",
    "result = pd.concat(AllPrices)[['Purchase Site', 'Blade','Supplier Name', 'VMI', 'Incom Term', 'Payment Term','Material Category', 'TPI Part No.', 'TPI Item Description', 'OEM Specification', 'UOM', 'Unit Cost', 'Loggistics Cost', 'Packaging Cost', 'Landed Cost', 'MOQ', 'Currency', 'Date', 'Container', 'HS Code', 'Pakaging Type', 'Pallet']]\n"
   ]
  },
  {
   "cell_type": "markdown",
   "metadata": {},
   "source": [
    "## Model 1: Export All Data \n",
    "\n",
    "##### This Model will export all supplier Prices in a list"
   ]
  },
  {
   "cell_type": "code",
   "execution_count": 266,
   "metadata": {
    "collapsed": true
   },
   "outputs": [],
   "source": [
    "# export result to excel\n",
    "writer = pd.ExcelWriter('C:/Users/************.xlsx')\n",
    "result.to_excel(writer,'Sheet1')\n",
    "writer.save()"
   ]
  },
  {
   "cell_type": "markdown",
   "metadata": {},
   "source": [
    "## Model 2: Export Single Supplier Quotations\n",
    "\n",
    "##### This Model will export single suppliers as requested. The data for one supplier will store in one excel sheet."
   ]
  },
  {
   "cell_type": "code",
   "execution_count": 267,
   "metadata": {},
   "outputs": [
    {
     "name": "stdout",
     "output_type": "stream",
     "text": [
      "Please input the supplier you want to check: \n",
      "Hexion\n",
      "Please input y to add more suppliers or input n to export results. \n",
      "y\n",
      "Please input the supplier you want to check: \n",
      "Olin\n",
      "Please input y to add more suppliers or input n to export results. \n",
      "n\n"
     ]
    }
   ],
   "source": [
    "add = 'y'\n",
    "writer = pd.ExcelWriter('C:/Users/************.xlsx')\n",
    "while add == 'y':    \n",
    "    supplier = input('Please input the supplier you want to check: \\n')\n",
    "    result_sup = result.loc[result['Supplier Name'] == supplier]\n",
    "    result_sup.to_excel(writer, supplier)\n",
    "    add = input('Please input y to add more suppliers or input n to export results. \\n')\n",
    "\n",
    "writer.save()"
   ]
  },
  {
   "cell_type": "markdown",
   "metadata": {},
   "source": [
    "## Model 3: Export Quotation by Site and Category\n",
    "\n",
    "##### This Model will export all quotations by site by category"
   ]
  },
  {
   "cell_type": "code",
   "execution_count": 268,
   "metadata": {
    "collapsed": true
   },
   "outputs": [],
   "source": [
    "table = pd.pivot_table(result, values='Landed Cost', index=['Part No.', 'Item Description'], columns=['Purchase Site', 'Material Category', 'Supplier Name', 'Incom Term', 'VMI', 'Payment Term'], aggfunc=np.sum)\n",
    "writer = pd.ExcelWriter('C:/Users/************.xlsx')\n",
    "table.to_excel(writer,'AllQuotation')\n",
    "writer.save()"
   ]
  },
  {
   "cell_type": "markdown",
   "metadata": {},
   "source": [
    "## Model 4: Export Quotation for One Site One Category\n",
    "\n",
    "##### This Model will single site and category export quotations as requested. One result will be store in two sheets include a list of prices and an analysis sheet."
   ]
  },
  {
   "cell_type": "code",
   "execution_count": 270,
   "metadata": {},
   "outputs": [
    {
     "name": "stdout",
     "output_type": "stream",
     "text": [
      "Please input the site you want to check: \n",
      "Mexico\n",
      "Please input the category you want to check: \n",
      "Adhesive\n",
      "Please input y to add more suppliers or input n to export results. \n",
      "y\n",
      "Please input the site you want to check: \n",
      "Turkey\n",
      "Please input the category you want to check: \n",
      "Resin\n",
      "Please input y to add more suppliers or input n to export results. \n",
      "n\n"
     ]
    }
   ],
   "source": [
    "add = 'y'\n",
    "writer = pd.ExcelWriter('C:/Users/************.xlsx')\n",
    "while add == 'y':    \n",
    "    site = input('Please input the site you want to check: \\n')\n",
    "    category = input('Please input the category you want to check: \\n')\n",
    "    result_sup = result.loc[result['Purchase Site'] == site]\n",
    "    result_sup = result_sup.loc[result_sup['Material Category'] == category]\n",
    "    result_sup.to_excel(writer, site + ' ' + category)\n",
    "    table_SiteCategory = pd.pivot_table(result_sup, values='Landed Cost', index=['Part No.', 'Item Description'], columns=['Supplier Name', 'Incom Term', 'VMI', 'Payment Term'], aggfunc=np.sum)\n",
    "    table_SiteCategory.to_excel(writer, site + ' ' + category + ' Analysis')\n",
    "    add = input('Please input y to add more suppliers or input n to export results. \\n')\n",
    "writer.save()"
   ]
  },
  {
   "cell_type": "markdown",
   "metadata": {},
   "source": [
    "## Model 5: Compared with Baseline Price - Cost Out\n",
    "#### Only have data for Turkey Resin now...\n",
    "\n",
    "##### This is a model to show that we can do calculation and data visualization."
   ]
  },
  {
   "cell_type": "code",
   "execution_count": 276,
   "metadata": {
    "collapsed": true
   },
   "outputs": [],
   "source": [
    "result_CostOut = result.loc[result['Purchase Site'] == 'Turkey']\n",
    "result_CostOut = result_CostOut.loc[result_CostOut['Material Category'] == 'Resin'] \n",
    "result_CostOut['Extended Cost'] = result_CostOut['MOQ'] * result_CostOut['Landed Cost']"
   ]
  },
  {
   "cell_type": "code",
   "execution_count": 277,
   "metadata": {
    "collapsed": true
   },
   "outputs": [],
   "source": [
    "table_CostOut = pd.pivot_table(result_CostOut, values='Extended Cost', columns=['Supplier Name'], aggfunc=np.sum)\n",
    "table_CostOut.loc['Cost Out'] = [table_CostOut['Baseline'][0] - table_CostOut['Baseline'][0], table_CostOut['Hexion'][0] - table_CostOut['Baseline'][0], table_CostOut['Huntsman'][0] - table_CostOut['Baseline'][0], table_CostOut['Olin'][0] - table_CostOut['Baseline'][0], table_CostOut['Swancor'][0] - table_CostOut['Baseline'][0]]\n",
    "table_CostOut.loc['Cost Out %'] = [\"{0:.1%}\".format(table_CostOut['Baseline'][0] / table_CostOut['Baseline'][0] - 1), \"{0:.1%}\".format(table_CostOut['Hexion'][0] / table_CostOut['Baseline'][0] - 1), \"{0:.1%}\".format(table_CostOut['Huntsman'][0] / table_CostOut['Baseline'][0] - 1), \"{0:.1%}\".format(table_CostOut['Olin'][0] / table_CostOut['Baseline'][0] - 1), \"{0:.1%}\".format(table_CostOut['Swancor'][0] / table_CostOut['Baseline'][0] - 1)]\n"
   ]
  },
  {
   "cell_type": "code",
   "execution_count": 283,
   "metadata": {
    "collapsed": true
   },
   "outputs": [],
   "source": [
    "writer = pd.ExcelWriter('C:/Users/************.xlsx')\n",
    "table_CostOut.to_excel(writer, 'CostOut')\n",
    "writer.save()"
   ]
  },
  {
   "cell_type": "code",
   "execution_count": 281,
   "metadata": {},
   "outputs": [
    {
     "data": {
      "image/png": "[encoded data removed]",
      "text/plain": [
       "<matplotlib.figure.Figure at 0x2a371145198>"
      ]
     },
     "metadata": {},
     "output_type": "display_data"
    }
   ],
   "source": [
    "fig = plt.figure()\n",
    "ax = fig.add_subplot(111)\n",
    "ax2 = ax.twinx()\n",
    "table_CostOut.loc['Extended Cost'].plot(kind='bar', color='red', ax=ax, legend = True, mark_right = True)\n",
    "table_CostOut.loc['Cost Out'].plot(kind='line', ax=ax2, legend = True)\n",
    "plt.title('Cost Out Comparison - 1')\n",
    "plt.show()\n",
    "plt.savefig('Cost Out 1.png')"
   ]
  },
  {
   "cell_type": "code",
   "execution_count": 282,
   "metadata": {},
   "outputs": [
    {
     "data": {
      "text/plain": [
       "<matplotlib.figure.Figure at 0x2a3724b1c18>"
      ]
     },
     "metadata": {},
     "output_type": "display_data"
    },
    {
     "data": {
      "image/png": "[encoded data removed]",
      "text/plain": [
       "<matplotlib.figure.Figure at 0x2a371145f98>"
      ]
     },
     "metadata": {},
     "output_type": "display_data"
    }
   ],
   "source": [
    "fig = plt.figure()\n",
    "ax = fig.add_subplot(111)\n",
    "ax2 = ax.twinx()\n",
    "table_CostOut.loc[['Extended Cost', 'Cost Out']].T.plot(kind='bar', ax=ax, legend = True, mark_right = False)\n",
    "plt.title('Cost Out Comparison - 2')\n",
    "plt.show()\n",
    "plt.savefig('Cost Out 2.png')"
   ]
  },
  {
   "cell_type": "code",
   "execution_count": null,
   "metadata": {
    "collapsed": true
   },
   "outputs": [],
   "source": []
  }
 ],
 "metadata": {
  "kernelspec": {
   "display_name": "Python 3",
   "language": "python",
   "name": "python3"
  },
  "language_info": {
   "codemirror_mode": {
    "name": "ipython",
    "version": 3
   },
   "file_extension": ".py",
   "mimetype": "text/x-python",
   "name": "python",
   "nbconvert_exporter": "python",
   "pygments_lexer": "ipython3",
   "version": "3.6.3"
  }
 },
 "nbformat": 4,
 "nbformat_minor": 2
}

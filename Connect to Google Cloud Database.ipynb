{
 "cells": [
  {
   "cell_type": "markdown",
   "metadata": {},
   "source": [
    "# Supplier User Interface\n"
   ]
  },
  {
   "cell_type": "code",
   "execution_count": 40,
   "metadata": {
    "collapsed": true
   },
   "outputs": [],
   "source": [
    "import pandas as pd\n",
    "import pymysql\n",
    "dsn_database = \"********\"\n",
    "dsn_hostname = \"*******\"\n",
    "dsn_port = 3306\n",
    "dsn_uid = \"****\"\n",
    "import pymysql\n",
    "conn = pymysql.connect(host=dsn_hostname, port=dsn_port, user=dsn_uid, db=dsn_database, password='123321', cursorclass=pymysql.cursors.DictCursor)\n",
    "cursor=conn.cursor()"
   ]
  },
  {
   "cell_type": "code",
   "execution_count": 41,
   "metadata": {},
   "outputs": [
    {
     "name": "stdout",
     "output_type": "stream",
     "text": [
      "Welcome to TPI price input system~  ^.^\n",
      "Please input general information\n",
      "Please enter you full name: xiaoyu\n",
      "Please enter your company full name: SAP\n",
      "Please input currency: USD\n"
     ]
    }
   ],
   "source": [
    "print('Welcome to TPI price input system~  ^.^')\n",
    "print('Please input general information')\n",
    "person = input('Please enter you full name: ')\n",
    "supplier = input('Please enter your company full name: ')\n",
    "currency = input('Please input currency: ')"
   ]
  },
  {
   "cell_type": "code",
   "execution_count": 42,
   "metadata": {},
   "outputs": [
    {
     "name": "stdout",
     "output_type": "stream",
     "text": [
      "Please input Item Number: 097\n",
      "Please input Item Price: 0.6\n",
      "Do you want to input another item price?(Choose 1 or 2) \n",
      "1.Yes\n",
      "2.No\n",
      "2\n",
      "\n",
      "\n",
      "\n",
      "\n",
      "Please review following information\n",
      "\n",
      "Supplier: SAP\n",
      "Contact Person:  xiaoyu\n",
      "Note: all prices are in USD \n",
      "Price list\n",
      "  Item Number Item Price\n",
      "0         097        0.6\n",
      "Please choose:\n",
      "1. If it is correct, press 1 continue.\n",
      "2. Press 2 to re-input.\n",
      "1\n"
     ]
    }
   ],
   "source": [
    "correct = '2'\n",
    "while correct != '1':\n",
    "    new = '1'\n",
    "    ItemList = []\n",
    "    ItemPrice = []\n",
    "    while new != '2':\n",
    "        Number = input('Please input Item Number: ')\n",
    "        Price = input('Please input Item Price: ')\n",
    "        new = input('Do you want to input another item price?(Choose 1 or 2) \\n1.Yes\\n2.No\\n')\n",
    "        ItemList.append(Number)\n",
    "        ItemPrice.append(Price)\n",
    "        cursor.execute('''INSERT into supplier_input (SupplierName, ContactPerson, ItemNumber, Prices)\n",
    "              values (%s, %s, %s, %s)''',\n",
    "              (supplier, person, Number, Price))\n",
    "    List = {'Item Number':ItemList, 'Item Price':ItemPrice}\n",
    "    SupplierQuotes = pd.DataFrame(List)\n",
    "    print('\\n\\n\\n\\nPlease review following information\\n')\n",
    "    print('Supplier:', supplier)\n",
    "    print('Contact Person: ', person)\n",
    "    print('Note: all prices are in', currency,'\\nPrice list')\n",
    "    print(SupplierQuotes)\n",
    "    correct = input('Please choose:\\n1. If it is correct, press 1 continue.\\n2. Press 2 to re-input.\\n')\n",
    "conn.commit()"
   ]
  },
  {
   "cell_type": "code",
   "execution_count": 43,
   "metadata": {
    "collapsed": true
   },
   "outputs": [],
   "source": [
    "if correct == '1':\n",
    "    NewQuote = SupplierQuotes\n",
    "    NewQuote['Supplier'] = supplier\n",
    "    NewQuote['ContactPerson'] = person\n",
    "    NewQuote['Currecy'] = currency"
   ]
  },
  {
   "cell_type": "code",
   "execution_count": 44,
   "metadata": {},
   "outputs": [
    {
     "data": {
      "text/html": [
       "<div>\n",
       "<style>\n",
       "    .dataframe thead tr:only-child th {\n",
       "        text-align: right;\n",
       "    }\n",
       "\n",
       "    .dataframe thead th {\n",
       "        text-align: left;\n",
       "    }\n",
       "\n",
       "    .dataframe tbody tr th {\n",
       "        vertical-align: top;\n",
       "    }\n",
       "</style>\n",
       "<table border=\"1\" class=\"dataframe\">\n",
       "  <thead>\n",
       "    <tr style=\"text-align: right;\">\n",
       "      <th></th>\n",
       "      <th>Item Number</th>\n",
       "      <th>Item Price</th>\n",
       "      <th>Supplier</th>\n",
       "      <th>ContactPerson</th>\n",
       "      <th>Currecy</th>\n",
       "    </tr>\n",
       "  </thead>\n",
       "  <tbody>\n",
       "    <tr>\n",
       "      <th>0</th>\n",
       "      <td>097</td>\n",
       "      <td>0.6</td>\n",
       "      <td>SAP</td>\n",
       "      <td>xiaoyu</td>\n",
       "      <td>USD</td>\n",
       "    </tr>\n",
       "  </tbody>\n",
       "</table>\n",
       "</div>"
      ],
      "text/plain": [
       "  Item Number Item Price Supplier ContactPerson Currecy\n",
       "0         097        0.6      SAP        xiaoyu     USD"
      ]
     },
     "execution_count": 44,
     "metadata": {},
     "output_type": "execute_result"
    }
   ],
   "source": [
    "NewQuote"
   ]
  },
  {
   "cell_type": "markdown",
   "metadata": {},
   "source": [
    "# =============================================================="
   ]
  },
  {
   "cell_type": "markdown",
   "metadata": {},
   "source": [
    "# TPI User Interface"
   ]
  },
  {
   "cell_type": "code",
   "execution_count": 45,
   "metadata": {},
   "outputs": [
    {
     "name": "stdout",
     "output_type": "stream",
     "text": [
      "Please input the function you want to use: \n",
      "1. View all supplier prices\n",
      "2. Check a specific supplier prices1\n",
      "  SupplierName ItemNumber Prices  ContactPerson\n",
      "0       Hexion         88   16.2    Meilin_test\n",
      "1      Swancor       1123    0.9  Meilin test 2\n",
      "2      Swancor       1654    9.8  Meilin test 2\n",
      "3   TPI test 1       T123    1.2  Meilin test 1\n",
      "4   TPI test 1       T232    9.0  Meilin test 1\n",
      "5   TPI test 3       1654    9.5  Meilin test 3\n",
      "6   TPI test 3       T123    1.0  Meilin test 3\n",
      "7     Olin XYZ      47568   0.03           Olin\n",
      "8          SAP        097    0.6         xiaoyu\n",
      "Do you want to export the result? \\Please input y for Yes, n for No.n\n"
     ]
    }
   ],
   "source": [
    "cursor.execute(\"SELECT * FROM supplier_input\")\n",
    "rows =cursor.fetchall()\n",
    "result = pd.DataFrame(list(rows))\n",
    "\n",
    "function = input('Please input the function you want to use: \\n1. View all supplier prices\\n2. Check a specific supplier prices')\n",
    "if function == '1':\n",
    "    result_s = result[['SupplierName', 'ItemNumber', 'Prices', 'ContactPerson']]\n",
    "    print(result_s)\n",
    "else:\n",
    "    supName = input('Please input the supplier you want to check: ')\n",
    "    result_s = result.loc[result['SupplierName'] == supName]\n",
    "    print(result_s[['SupplierName', 'ItemNumber', 'Prices', 'ContactPerson']])\n",
    "\n",
    "export = input('Do you want to export the result? \\Please input y for Yes, n for No.')\n",
    "if export == 'y':\n",
    "    writer = pd.ExcelWriter('result.xlsx')\n",
    "    result_s.to_excel(writer,'result')\n",
    "    writer.save()\n"
   ]
  },
  {
   "cell_type": "code",
   "execution_count": null,
   "metadata": {
    "collapsed": true
   },
   "outputs": [],
   "source": []
  }
 ],
 "metadata": {
  "kernelspec": {
   "display_name": "Python 3",
   "language": "python",
   "name": "python3"
  },
  "language_info": {
   "codemirror_mode": {
    "name": "ipython",
    "version": 3
   },
   "file_extension": ".py",
   "mimetype": "text/x-python",
   "name": "python",
   "nbconvert_exporter": "python",
   "pygments_lexer": "ipython3",
   "version": "3.6.3"
  }
 },
 "nbformat": 4,
 "nbformat_minor": 2
}

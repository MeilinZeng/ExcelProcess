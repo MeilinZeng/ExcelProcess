{
 "cells": [
  {
   "cell_type": "markdown",
   "metadata": {},
   "source": [
    "## Import Packages"
   ]
  },
  {
   "cell_type": "code",
   "execution_count": 258,
   "metadata": {},
   "outputs": [
    {
     "name": "stdout",
     "output_type": "stream",
     "text": [
      "Once deleted, variables cannot be recovered. Proceed (y/[n])? y\n"
     ]
    }
   ],
   "source": [
    "%reset"
   ]
  },
  {
   "cell_type": "code",
   "execution_count": 1,
   "metadata": {
    "collapsed": true
   },
   "outputs": [],
   "source": [
    "import pandas as pd\n",
    "import glob"
   ]
  },
  {
   "cell_type": "markdown",
   "metadata": {},
   "source": [
    "## Get Incoterm and Payment Term"
   ]
  },
  {
   "cell_type": "code",
   "execution_count": 260,
   "metadata": {
    "collapsed": true
   },
   "outputs": [],
   "source": [
    "BPA = pd.read_excel('BPAlines.xlsx', sheetname='BPAlines')\n",
    "BPA_Header = pd.read_excel('BPAheaders.xlsx', sheetname='New_BPAs')"
   ]
  },
  {
   "cell_type": "code",
   "execution_count": 261,
   "metadata": {
    "collapsed": true
   },
   "outputs": [],
   "source": [
    "Incoterm_Terms = BPA[['Number', 'Supplier', 'Item', 'Price','Freight Terms', 'Terms']].merge(BPA_Header[['Number', 'Description']],left_on = 'Number', right_on = 'Number')"
   ]
  },
  {
   "cell_type": "code",
   "execution_count": 262,
   "metadata": {
    "collapsed": true
   },
   "outputs": [],
   "source": [
    "Incoterm_Terms_CN = Incoterm_Terms[Incoterm_Terms['Description'].str.contains(\"CHINA\")]\n"
   ]
  },
  {
   "cell_type": "code",
   "execution_count": 263,
   "metadata": {
    "collapsed": true
   },
   "outputs": [],
   "source": [
    "writer = pd.ExcelWriter('Incoterm_Terms_CN.xlsx')\n",
    "Incoterm_Terms_CN.to_excel(writer,'Sheet1')\n",
    "writer.save()"
   ]
  },
  {
   "cell_type": "markdown",
   "metadata": {},
   "source": [
    "## Read BOMs"
   ]
  },
  {
   "cell_type": "code",
   "execution_count": 2,
   "metadata": {
    "collapsed": true
   },
   "outputs": [],
   "source": [
    "namelist = glob.glob(\"C:/Users/********.xlsx\")"
   ]
  },
  {
   "cell_type": "code",
   "execution_count": 265,
   "metadata": {
    "collapsed": true
   },
   "outputs": [],
   "source": [
    "BladeList = []\n",
    "AllBOMs = []\n",
    "for name in namelist:\n",
    "    var_name = name.split(\"\\\\\")[1].split(\".x\")[0]\n",
    "    BladeList.append(var_name)\n",
    "    vars()[var_name] = pd.read_excel(name, sheetname='Sheet1')\n",
    "    AllBOMs.append(pd.read_excel(name, sheetname='Sheet1'))"
   ]
  },
  {
   "cell_type": "code",
   "execution_count": 266,
   "metadata": {
    "collapsed": true
   },
   "outputs": [],
   "source": [
    "result = pd.concat(AllBOMs)\n",
    "writer = pd.ExcelWriter('AllBOMs.xlsx')\n",
    "result.to_excel(writer,'Sheet1')\n",
    "writer.save()"
   ]
  },
  {
   "cell_type": "markdown",
   "metadata": {},
   "source": [
    "## Add Incoterms and Payment Terms"
   ]
  },
  {
   "cell_type": "code",
   "execution_count": 267,
   "metadata": {
    "collapsed": true
   },
   "outputs": [],
   "source": [
    "# Merge BOM with the BPAs for that region\n",
    "class add_BPAinfo:\n",
    "    def __init__(self, BOM, BPA):\n",
    "        self.BOM = BOM\n",
    "        self.BPA = BPA\n",
    "        \n",
    "    def add(self):\n",
    "        result = self.BOM.merge(self.BPA, left_on='Item', right_on='Item', how='left')\n",
    "        result = result[pd.notnull(result['Blade'])][['Region','Blade','Item','Description_x','UOM', 'UnitCost','Price','Freight Terms','Terms']]\n",
    "        return result"
   ]
  },
  {
   "cell_type": "markdown",
   "metadata": {},
   "source": [
    "## Merge Tables"
   ]
  },
  {
   "cell_type": "code",
   "execution_count": 269,
   "metadata": {
    "collapsed": true
   },
   "outputs": [],
   "source": [
    "class merge_table:\n",
    "    def __init__(self, old_table, new_table):\n",
    "        self.old_table = old_table\n",
    "        self.new_table = new_table\n",
    "        \n",
    "    def merge(self):\n",
    "        result = self.new_table.merge(self.old_table, left_on='Item', right_on='Item', how='outer')\n",
    "        return result"
   ]
  },
  {
   "cell_type": "code",
   "execution_count": 272,
   "metadata": {
    "collapsed": true
   },
   "outputs": [],
   "source": [
    "writer = pd.ExcelWriter('new_output.xlsx')\n",
    "final_table.to_excel(writer,'Sheet1')\n",
    "writer.save()"
   ]
  },
  {
   "cell_type": "code",
   "execution_count": null,
   "metadata": {
    "collapsed": true
   },
   "outputs": [],
   "source": []
  },
  {
   "cell_type": "code",
   "execution_count": null,
   "metadata": {
    "collapsed": true
   },
   "outputs": [],
   "source": []
  }
 ],
 "metadata": {
  "kernelspec": {
   "display_name": "Python 3",
   "language": "python",
   "name": "python3"
  },
  "language_info": {
   "codemirror_mode": {
    "name": "ipython",
    "version": 3
   },
   "file_extension": ".py",
   "mimetype": "text/x-python",
   "name": "python",
   "nbconvert_exporter": "python",
   "pygments_lexer": "ipython3",
   "version": "3.6.3"
  }
 },
 "nbformat": 4,
 "nbformat_minor": 2
}

{
 "cells": [
  {
   "cell_type": "markdown",
   "metadata": {},
   "source": [
    "# Supplier User Interface\n"
   ]
  },
  {
   "cell_type": "code",
   "execution_count": 24,
   "metadata": {},
   "outputs": [
    {
     "name": "stdout",
     "output_type": "stream",
     "text": [
      "Welcome to TPI data collection system~  ^.^\n",
      "Please input general information\n",
      "Please enter you full name: XYZ\n",
      "Please enter your company full name: ABCD\n",
      "Please input currency: USD\n"
     ]
    }
   ],
   "source": [
    "import pandas as pd\n",
    "print('Welcome to TPI data collection system~  ^.^')\n",
    "print('Please input general information')\n",
    "person = input('Please enter you full name: ')\n",
    "supplier = input('Please enter your company full name: ')\n",
    "currency = input('Please input currency: ')"
   ]
  },
  {
   "cell_type": "code",
   "execution_count": 26,
   "metadata": {},
   "outputs": [
    {
     "name": "stdout",
     "output_type": "stream",
     "text": [
      "Please input Item Number: 5762\n",
      "Please input Item Price: 13\n",
      "Do you want to input another item price?(Choose 1 or 2) \n",
      "1.Yes\n",
      "2.No\n",
      "1\n",
      "Please input Item Number: 4245\n",
      "Please input Item Price: 34\n",
      "Do you want to input another item price?(Choose 1 or 2) \n",
      "1.Yes\n",
      "2.No\n",
      "2\n",
      "\n",
      "\n",
      "\n",
      "\n",
      "Please review following information\n",
      "\n",
      "Supplier: ABCD\n",
      "Contact Person:  XYZ\n",
      "Note: all prices are in USD \n",
      "Price list\n",
      "  Item Number Item Price\n",
      "0        5762         13\n",
      "1        4245         34\n",
      "Please choose:\n",
      "1. If it is correct, press 1 continue.\n",
      "2. Press 2 to re-input.\n",
      "1\n"
     ]
    }
   ],
   "source": [
    "correct = '2'\n",
    "while correct != '1':\n",
    "    new = '1'\n",
    "    ItemList = []\n",
    "    ItemPrice = []\n",
    "    while new != '2':\n",
    "        Number = input('Please input Item Number: ')\n",
    "        Price = input('Please input Item Price: ')\n",
    "        new = input('Do you want to input another item price?(Choose 1 or 2) \\n1.Yes\\n2.No\\n')\n",
    "        ItemList.append(Number)\n",
    "        ItemPrice.append(Price)\n",
    "    List = {'Item Number':ItemList, 'Item Price':ItemPrice}\n",
    "    SupplierQuotes = pd.DataFrame(List)\n",
    "    print('\\n\\n\\n\\nPlease review following information\\n')\n",
    "    print('Supplier:', supplier)\n",
    "    print('Contact Person: ', person)\n",
    "    print('Note: all prices are in', currency,'\\nPrice list')\n",
    "    print(SupplierQuotes)\n",
    "    correct = input('Please choose:\\n1. If it is correct, press 1 continue.\\n2. Press 2 to re-input.\\n')"
   ]
  },
  {
   "cell_type": "code",
   "execution_count": 27,
   "metadata": {
    "collapsed": true
   },
   "outputs": [],
   "source": [
    "if correct == '1':\n",
    "    NewQuote = SupplierQuotes\n",
    "    NewQuote['Supplier'] = supplier\n",
    "    NewQuote['ContactPerson'] = person\n",
    "    NewQuote['Currecy'] = currency"
   ]
  },
  {
   "cell_type": "code",
   "execution_count": 28,
   "metadata": {},
   "outputs": [
    {
     "data": {
      "text/html": [
       "<div>\n",
       "<style>\n",
       "    .dataframe thead tr:only-child th {\n",
       "        text-align: right;\n",
       "    }\n",
       "\n",
       "    .dataframe thead th {\n",
       "        text-align: left;\n",
       "    }\n",
       "\n",
       "    .dataframe tbody tr th {\n",
       "        vertical-align: top;\n",
       "    }\n",
       "</style>\n",
       "<table border=\"1\" class=\"dataframe\">\n",
       "  <thead>\n",
       "    <tr style=\"text-align: right;\">\n",
       "      <th></th>\n",
       "      <th>Item Number</th>\n",
       "      <th>Item Price</th>\n",
       "      <th>Supplier</th>\n",
       "      <th>ContactPerson</th>\n",
       "      <th>Currecy</th>\n",
       "    </tr>\n",
       "  </thead>\n",
       "  <tbody>\n",
       "    <tr>\n",
       "      <th>0</th>\n",
       "      <td>5762</td>\n",
       "      <td>13</td>\n",
       "      <td>ABCD</td>\n",
       "      <td>XYZ</td>\n",
       "      <td>USD</td>\n",
       "    </tr>\n",
       "    <tr>\n",
       "      <th>1</th>\n",
       "      <td>4245</td>\n",
       "      <td>34</td>\n",
       "      <td>ABCD</td>\n",
       "      <td>XYZ</td>\n",
       "      <td>USD</td>\n",
       "    </tr>\n",
       "  </tbody>\n",
       "</table>\n",
       "</div>"
      ],
      "text/plain": [
       "  Item Number Item Price Supplier ContactPerson Currecy\n",
       "0        5762         13     ABCD           XYZ     USD\n",
       "1        4245         34     ABCD           XYZ     USD"
      ]
     },
     "execution_count": 28,
     "metadata": {},
     "output_type": "execute_result"
    }
   ],
   "source": [
    "NewQuote"
   ]
  },
  {
   "cell_type": "code",
   "execution_count": 1,
   "metadata": {},
   "outputs": [
    {
     "ename": "ModuleNotFoundError",
     "evalue": "No module named 'pymysql'",
     "output_type": "error",
     "traceback": [
      "\u001b[1;31m---------------------------------------------------------------------------\u001b[0m",
      "\u001b[1;31mModuleNotFoundError\u001b[0m                       Traceback (most recent call last)",
      "\u001b[1;32m<ipython-input-1-09b62d67228f>\u001b[0m in \u001b[0;36m<module>\u001b[1;34m()\u001b[0m\n\u001b[0;32m      4\u001b[0m \u001b[0mdsn_uid\u001b[0m \u001b[1;33m=\u001b[0m \u001b[1;34m\"root\"\u001b[0m\u001b[1;33m\u001b[0m\u001b[0m\n\u001b[0;32m      5\u001b[0m \u001b[1;33m\u001b[0m\u001b[0m\n\u001b[1;32m----> 6\u001b[1;33m \u001b[1;32mimport\u001b[0m \u001b[0mpymysql\u001b[0m\u001b[1;33m\u001b[0m\u001b[0m\n\u001b[0m\u001b[0;32m      7\u001b[0m \u001b[1;33m\u001b[0m\u001b[0m\n\u001b[0;32m      8\u001b[0m \u001b[0mconn\u001b[0m \u001b[1;33m=\u001b[0m \u001b[0mpymysql\u001b[0m\u001b[1;33m.\u001b[0m\u001b[0mconnect\u001b[0m\u001b[1;33m(\u001b[0m\u001b[0mhost\u001b[0m\u001b[1;33m=\u001b[0m\u001b[0mdsn_hostname\u001b[0m\u001b[1;33m,\u001b[0m \u001b[0mport\u001b[0m\u001b[1;33m=\u001b[0m\u001b[0mdsn_port\u001b[0m\u001b[1;33m,\u001b[0m \u001b[0muser\u001b[0m\u001b[1;33m=\u001b[0m\u001b[0mdsn_uid\u001b[0m\u001b[1;33m,\u001b[0m \u001b[0mdb\u001b[0m\u001b[1;33m=\u001b[0m\u001b[0mdsn_database\u001b[0m\u001b[1;33m)\u001b[0m\u001b[1;33m\u001b[0m\u001b[0m\n",
      "\u001b[1;31mModuleNotFoundError\u001b[0m: No module named 'pymysql'"
     ]
    }
   ],
   "source": [
    "dsn_database = \"gscdata\"\n",
    "dsn_hostname = \"35.192.171.175\"\n",
    "dsn_port = 3306\n",
    "dsn_uid = \"root\"\n",
    "\n",
    "import pymysql\n",
    "\n",
    "conn = pymysql.connect(host=dsn_hostname, port=dsn_port, user=dsn_uid, db=dsn_database)\n",
    "cursor=conn.cursor()\n",
    "cursor.execute(\"SELECT * FROM Input\")\n",
    "rows = cursor.fetchall()"
   ]
  },
  {
   "cell_type": "code",
   "execution_count": 2,
   "metadata": {},
   "outputs": [
    {
     "ename": "ModuleNotFoundError",
     "evalue": "No module named 'PyMySQL'",
     "output_type": "error",
     "traceback": [
      "\u001b[1;31m---------------------------------------------------------------------------\u001b[0m",
      "\u001b[1;31mModuleNotFoundError\u001b[0m                       Traceback (most recent call last)",
      "\u001b[1;32m<ipython-input-2-059e500f409d>\u001b[0m in \u001b[0;36m<module>\u001b[1;34m()\u001b[0m\n\u001b[1;32m----> 1\u001b[1;33m \u001b[1;32mimport\u001b[0m \u001b[0mPyMySQL\u001b[0m\u001b[1;33m\u001b[0m\u001b[0m\n\u001b[0m",
      "\u001b[1;31mModuleNotFoundError\u001b[0m: No module named 'PyMySQL'"
     ]
    }
   ],
   "source": [
    "import PyMySQL"
   ]
  },
  {
   "cell_type": "code",
   "execution_count": null,
   "metadata": {
    "collapsed": true
   },
   "outputs": [],
   "source": []
  }
 ],
 "metadata": {
  "kernelspec": {
   "display_name": "Python 3",
   "language": "python",
   "name": "python3"
  },
  "language_info": {
   "codemirror_mode": {
    "name": "ipython",
    "version": 3
   },
   "file_extension": ".py",
   "mimetype": "text/x-python",
   "name": "python",
   "nbconvert_exporter": "python",
   "pygments_lexer": "ipython3",
   "version": "3.6.1"
  }
 },
 "nbformat": 4,
 "nbformat_minor": 2
}
